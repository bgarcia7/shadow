{
 "cells": [
  {
   "cell_type": "code",
   "execution_count": 10,
   "metadata": {
    "collapsed": false
   },
   "outputs": [
    {
     "name": "stdout",
     "output_type": "stream",
     "text": [
      "[u'category-ecommerce-discussion', u'category-shopify-discussion', u'category-general-discussion']\n"
     ]
    }
   ],
   "source": [
    "print [category['category'] for category in data.find()]"
   ]
  },
  {
   "cell_type": "code",
   "execution_count": 12,
   "metadata": {
    "collapsed": false
   },
   "outputs": [],
   "source": [
    "import urllib\n",
    "from urllib2 import urlopen\n",
    "import matplotlib.pyplot as plt\n",
    "from pymongo import MongoClient\n",
    "from bs4 import BeautifulSoup\n",
    "from collections import defaultdict\n",
    "from bson.objectid import ObjectId\n",
    "%matplotlib inline\n",
    "\n",
    "db_client = MongoClient()\n",
    "data = db_client['shopify']['forum']\n",
    "data2 = db_client['shopify_backup']\n",
    "users = db_client['shopify']['users']\n",
    "post_db = db_client['shopify']['posts']\n",
    "shopify_post_db = db_client['shopify']['shopify_posts']"
   ]
  },
  {
   "cell_type": "code",
   "execution_count": 13,
   "metadata": {
    "collapsed": true
   },
   "outputs": [],
   "source": [
    "base_url = 'https://ecommerce.shopify.com/'\n",
    "forums_url = 'forums'"
   ]
  },
  {
   "cell_type": "markdown",
   "metadata": {},
   "source": [
    "<div style=\"text-align:center;padding:10px;\"><h1>Step 3: Scrape User and Topic Information</h1></div>"
   ]
  },
  {
   "cell_type": "code",
   "execution_count": 15,
   "metadata": {
    "collapsed": false,
    "scrolled": false
   },
   "outputs": [
    {
     "name": "stdout",
     "output_type": "stream",
     "text": [
      "-----> CATEGORY: category-shopify-discussion\n",
      "SUBCATEGORY: category-shopify-job-board\n",
      "PROCESSED 435/1020 posts\n",
      "PROCESSED 440/1020 posts\n",
      "PROCESSED 445/1020 posts\n",
      "PROCESSED 450/1020 posts\n",
      "PROCESSED 455/1020 posts\n",
      "PROCESSED 460/1020 posts\n",
      "PROCESSED 465/1020 posts\n",
      "PROCESSED 470/1020 posts\n",
      "PROCESSED 475/1020 posts\n",
      "PROCESSED 480/1020 posts\n",
      "PROCESSED 485/1020 posts\n",
      "PROCESSED 490/1020 posts\n",
      "PROCESSED 495/1020 posts\n",
      "PROCESSED 500/1020 posts\n",
      "PROCESSED 505/1020 posts\n",
      "PROCESSED 510/1020 posts\n",
      "PROCESSED 515/1020 posts\n",
      "PROCESSED 520/1020 posts\n",
      "PROCESSED 525/1020 posts\n",
      "PROCESSED 530/1020 posts\n",
      "PROCESSED 535/1020 posts\n",
      "PROCESSED 540/1020 posts\n",
      "PROCESSED 545/1020 posts\n",
      "PROCESSED 550/1020 posts\n",
      "PROCESSED 555/1020 posts\n",
      "PROCESSED 560/1020 posts\n",
      "PROCESSED 565/1020 posts\n",
      "PROCESSED 570/1020 posts\n",
      "PROCESSED 575/1020 posts\n",
      "PROCESSED 580/1020 posts\n",
      "PROCESSED 585/1020 posts\n",
      "PROCESSED 590/1020 posts\n",
      "PROCESSED 595/1020 posts\n",
      "PROCESSED 600/1020 posts\n",
      "PROCESSED 605/1020 posts\n",
      "PROCESSED 610/1020 posts\n",
      "PROCESSED 615/1020 posts\n",
      "PROCESSED 620/1020 posts\n",
      "PROCESSED 625/1020 posts\n",
      "PROCESSED 630/1020 posts\n",
      "PROCESSED 635/1020 posts\n",
      "PROCESSED 640/1020 posts\n",
      "PROCESSED 645/1020 posts\n",
      "PROCESSED 650/1020 posts\n",
      "PROCESSED 655/1020 posts\n",
      "PROCESSED 660/1020 posts\n",
      "PROCESSED 665/1020 posts\n",
      "PROCESSED 670/1020 posts\n",
      "PROCESSED 675/1020 posts\n",
      "PROCESSED 680/1020 posts\n",
      "PROCESSED 685/1020 posts\n",
      "PROCESSED 690/1020 posts\n",
      "PROCESSED 695/1020 posts\n",
      "PROCESSED 700/1020 posts\n",
      "PROCESSED 705/1020 posts\n",
      "PROCESSED 710/1020 posts\n",
      "PROCESSED 715/1020 posts\n",
      "PROCESSED 720/1020 posts\n",
      "PROCESSED 725/1020 posts\n",
      "PROCESSED 730/1020 posts\n",
      "PROCESSED 735/1020 posts\n",
      "PROCESSED 740/1020 posts\n",
      "PROCESSED 745/1020 posts\n",
      "PROCESSED 750/1020 posts\n",
      "PROCESSED 755/1020 posts\n",
      "PROCESSED 760/1020 posts\n",
      "PROCESSED 765/1020 posts\n",
      "PROCESSED 770/1020 posts\n",
      "PROCESSED 775/1020 posts\n",
      "PROCESSED 780/1020 posts\n",
      "PROCESSED 785/1020 posts\n",
      "PROCESSED 790/1020 posts\n",
      "PROCESSED 795/1020 posts\n",
      "PROCESSED 800/1020 posts\n",
      "PROCESSED 805/1020 posts\n",
      "PROCESSED 810/1020 posts\n",
      "PROCESSED 815/1020 posts\n",
      "PROCESSED 820/1020 posts\n",
      "PROCESSED 825/1020 posts\n",
      "PROCESSED 830/1020 posts\n",
      "PROCESSED 835/1020 posts\n",
      "PROCESSED 840/1020 posts\n",
      "PROCESSED 845/1020 posts\n",
      "PROCESSED 850/1020 posts\n",
      "PROCESSED 855/1020 posts\n",
      "PROCESSED 860/1020 posts\n",
      "PROCESSED 865/1020 posts\n",
      "PROCESSED 870/1020 posts\n",
      "PROCESSED 875/1020 posts\n",
      "PROCESSED 880/1020 posts\n",
      "PROCESSED 885/1020 posts\n",
      "PROCESSED 890/1020 posts\n",
      "PROCESSED 895/1020 posts\n",
      "PROCESSED 900/1020 posts\n",
      "PROCESSED 905/1020 posts\n",
      "PROCESSED 910/1020 posts\n",
      "PROCESSED 915/1020 posts\n",
      "PROCESSED 920/1020 posts\n",
      "PROCESSED 925/1020 posts\n",
      "PROCESSED 930/1020 posts\n",
      "PROCESSED 935/1020 posts\n",
      "PROCESSED 940/1020 posts\n",
      "PROCESSED 945/1020 posts\n",
      "PROCESSED 950/1020 posts\n",
      "PROCESSED 955/1020 posts\n",
      "PROCESSED 960/1020 posts\n",
      "PROCESSED 965/1020 posts\n",
      "PROCESSED 970/1020 posts\n",
      "PROCESSED 975/1020 posts\n",
      "PROCESSED 980/1020 posts\n",
      "PROCESSED 985/1020 posts\n",
      "PROCESSED 990/1020 posts\n",
      "PROCESSED 995/1020 posts\n"
     ]
    }
   ],
   "source": [
    "for category in [data.find({'category':'category-shopify-discussion'})[0]]:\n",
    "    \n",
    "    print '-----> CATEGORY:', category['category']\n",
    "    for sub_cat_key in category[\"sub_cats\"]:\n",
    "        \n",
    "        if sub_cat_key == 'category-shopify-job-board':\n",
    "            \n",
    "            print 'SUBCATEGORY: {sub_cat}'.format(sub_cat=sub_cat_key)\n",
    "\n",
    "\n",
    "            sub_cat = category['sub_cats'][sub_cat_key]\n",
    "            posts = []\n",
    "\n",
    "\n",
    "            # Run through each thread\n",
    "            for idx, url in enumerate(sub_cat['topic_urls']):\n",
    "\n",
    "                if idx > 430 and idx < 995:\n",
    "                    try:\n",
    "                        topic_page = BeautifulSoup(urlopen(url))\n",
    "                        thread = []\n",
    "\n",
    "                        # Process original post\n",
    "                        user_id, text, date = process_post(topic_page.find('div',{'class':'original-post'}))\n",
    "                        shopify_post_db.insert_one({'user_id':user_id, 'date':date, 'text':text})\n",
    "\n",
    "                        # Process each reply\n",
    "                        for reply in topic_page.find_all('div',{'itemtype':'http://schema.org/UserComments'}):\n",
    "                            user_id, text, date = process_post(reply)\n",
    "                            shopify_post_db.insert_one({'user_id':user_id, 'date':date, 'text':text})\n",
    "\n",
    "\n",
    "                        # Status Update\n",
    "                        if (idx+1) % 5 == 0:\n",
    "                            print 'PROCESSED {idx}/{total} posts'.format(idx=(idx+1),total=len(sub_cat['topic_urls']))\n",
    "\n",
    "                    except Exception as e:\n",
    "                        print 'ERROR IN SUBCATEGORY: ', str(e)"
   ]
  },
  {
   "cell_type": "code",
   "execution_count": 4,
   "metadata": {
    "collapsed": false
   },
   "outputs": [],
   "source": [
    "def process_post(post):\n",
    "    \n",
    "    user = post.find('div',{'class':'author'})\n",
    "    user_id = int(user.find('a',{'class':'username'}).get('href').split('/')[-1])\n",
    "    \n",
    "    # Add user to db if does not exist \n",
    "    if users.find({'id': user_id}).count() < 1:\n",
    "        name = user.find('a',{'class':'username'}).text.strip()\n",
    "        title = user.find_all('em')[0].text.strip().lower()\n",
    "        site = user.find_all('em')[-1].text.strip().lower()\n",
    "        posts = int(user.find('div',{'class':'stats'}).find('a').text.strip().lower())\n",
    "        users.insert_one({'id':user_id,'name':name,'title':title,'site':site, 'posts':posts })\n",
    "        \n",
    "    # Extract date\n",
    "    date = get_date(post)\n",
    "    \n",
    "    # Extract text\n",
    "    text = ' '.join([txt.text.lower() for txt in post.find('div',{'itemprop':'description'}).find_all('p')])\n",
    "    \n",
    "    return user_id, text, date\n",
    "    \n",
    "    \n"
   ]
  },
  {
   "cell_type": "code",
   "execution_count": 5,
   "metadata": {
    "collapsed": false
   },
   "outputs": [],
   "source": [
    "import re\n",
    "import datetime as dt\n",
    "months = ['january','february','march','april','may','june','july','august','september','october','november','december']\n",
    "\n",
    "def get_date(post):\n",
    "    \n",
    "    regexes = ['(\\d+) day','(\\d+) month', '(\\w+) (\\d+), (20\\d+)']\n",
    "    raw_date = post.find('div',{'class':'date'}).text.strip()\n",
    "    date = None\n",
    "    \n",
    "    for idx, reg in enumerate(regexes):\n",
    "        matches = re.search(reg, raw_date)\n",
    "        if matches:\n",
    "            if idx == 0:\n",
    "                date = dt.datetime.now() - dt.timedelta(days=int(matches.group(1)))\n",
    "            elif idx == 1:\n",
    "                date = dt.datetime.now() - dt.timedelta(days=int(matches.group(1))*30)\n",
    "            else:\n",
    "                date = dt.datetime(int(matches.group(3)), int(months.index(matches.group(1).lower())) + 1, int(matches.group(2)))\n",
    "\n",
    "    return date.strftime('%Y-%m-%d') if date else 'WHY'"
   ]
  },
  {
   "cell_type": "code",
   "execution_count": null,
   "metadata": {
    "collapsed": true
   },
   "outputs": [],
   "source": []
  },
  {
   "cell_type": "code",
   "execution_count": null,
   "metadata": {
    "collapsed": true
   },
   "outputs": [],
   "source": []
  }
 ],
 "metadata": {
  "kernelspec": {
   "display_name": "Python 2",
   "language": "python",
   "name": "python2"
  },
  "language_info": {
   "codemirror_mode": {
    "name": "ipython",
    "version": 2
   },
   "file_extension": ".py",
   "mimetype": "text/x-python",
   "name": "python",
   "nbconvert_exporter": "python",
   "pygments_lexer": "ipython2",
   "version": "2.7.12"
  }
 },
 "nbformat": 4,
 "nbformat_minor": 0
}
