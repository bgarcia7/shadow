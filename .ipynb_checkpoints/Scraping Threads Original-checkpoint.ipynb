{
 "cells": [
  {
   "cell_type": "code",
   "execution_count": 210,
   "metadata": {
    "collapsed": false
   },
   "outputs": [
    {
     "name": "stderr",
     "output_type": "stream",
     "text": [
      "/Users/brandongarcia/Documents/shadow/shadow_box/lib/python2.7/site-packages/ipykernel/__main__.py:13: DeprecationWarning: remove is deprecated. Use delete_one or delete_many instead.\n"
     ]
    }
   ],
   "source": [
    "import urllib\n",
    "from urllib2 import urlopen\n",
    "import matplotlib.pyplot as plt\n",
    "from pymongo import MongoClient\n",
    "from bs4 import BeautifulSoup\n",
    "from collections import defaultdict\n",
    "\n",
    "%matplotlib inline\n",
    "\n",
    "db_client = MongoClient()\n",
    "data = db_client['shopify']['test_forum']\n",
    "users = db_client['shopify']['users']\n",
    "users.remove()\n",
    "users = db_client['shopify']['users']"
   ]
  },
  {
   "cell_type": "code",
   "execution_count": 211,
   "metadata": {
    "collapsed": true
   },
   "outputs": [],
   "source": [
    "base_url = 'https://ecommerce.shopify.com/'\n",
    "forums_url = 'forums'"
   ]
  },
  {
   "cell_type": "code",
   "execution_count": 215,
   "metadata": {
    "collapsed": false
   },
   "outputs": [
    {
     "name": "stdout",
     "output_type": "stream",
     "text": [
      "{u'category': u'category-ecommerce-discussion', u'sub_cats': {u'category-accounting-and-taxes': {u'url': u'/c/accounting-and-taxes', u'topic_urls': [u'https://ecommerce.shopify.com/c/accounting-and-taxes/t/no-tax-should-be-added-when-valid-vat-id-for-eu-customers-273484', u'https://ecommerce.shopify.com/c/accounting-and-taxes/t/xero-accounting-shopify-app-now-in-beta-279339', u'https://ecommerce.shopify.com/c/accounting-and-taxes/t/california-sales-tax-not-automatically-calculating-on-shopify-324933', u'https://ecommerce.shopify.com/c/accounting-and-taxes/t/business-finance-template-or-software-for-mac-360846', u'https://ecommerce.shopify.com/c/accounting-and-taxes/t/tax-setting-358825', u'https://ecommerce.shopify.com/c/accounting-and-taxes/t/sage-line50-does-anyone-use-this-software-with-shopify-360136', u'https://ecommerce.shopify.com/c/accounting-and-taxes/t/two-shopify-stores-same-company-one-xero-account-can-we-make-it-happen-358996', u'https://ecommerce.shopify.com/c/accounting-and-taxes/t/how-to-add-hst-number-on-invoice-359333', u'https://ecommerce.shopify.com/c/accounting-and-taxes/t/accounts-package-360010', u'https://ecommerce.shopify.com/c/accounting-and-taxes/t/billing-cycles-for-customer-accounts-358814', u'https://ecommerce.shopify.com/c/accounting-and-taxes/t/german-shopify-store-which-booking-software-to-use-359289', u'https://ecommerce.shopify.com/c/accounting-and-taxes/t/when-should-i-hire-a-bookkeeper-358758', u'https://ecommerce.shopify.com/c/accounting-and-taxes/t/determining-profit-of-products-when-shipping-multiple-products-and-1-shipping-charge-358605', u'https://ecommerce.shopify.com/c/accounting-and-taxes/t/starting-to-charge-gst-in-australia-this-financial-year-what-settings-357179', u'https://ecommerce.shopify.com/c/accounting-and-taxes/t/vat-id-eu-customers-357296', u'https://ecommerce.shopify.com/c/accounting-and-taxes/t/vat-business-to-business-uk-eu-and-rest-of-world-306948', u'https://ecommerce.shopify.com/c/accounting-and-taxes/t/charging-sales-tax-on-full-retail-value-not-discounted-subtotal-developer-help-wanted-354304', u'https://ecommerce.shopify.com/c/accounting-and-taxes/t/service-charge-354040', u'https://ecommerce.shopify.com/c/accounting-and-taxes/t/tax-help-please-352935', u'https://ecommerce.shopify.com/c/accounting-and-taxes/t/tax-exempt-customers-what-is-the-status-196459'], u'num_topics': 434}, u'category-ecommerce-marketing': {u'url': u'/c/ecommerce-marketing', u'num_topics': 3852}, u'category-ecommerce-discussion': {u'url': u'/c/ecommerce-discussion', u'num_topics': 6273}, u'category-wholesale-and-drop-shipping': {u'url': u'/c/wholesale-and-drop-shipping', u'num_topics': 1178}, u'category-ecommerce-gallery': {u'url': u'/c/ecommerce-gallery', u'num_topics': 7076}, u'category-ecommerce-job-board': {u'url': u'/c/ecommerce-job-board', u'num_topics': 2423}, u'category-payments-shipping-fulfilment': {u'url': u'/c/payments-shipping-fulfilment', u'num_topics': 3352}, u'category-bab-general': {u'url': u'/c/bab-general', u'num_topics': 2566}, u'category-manufacturing-and-kickstarting': {u'url': u'/c/manufacturing-and-kickstarting', u'num_topics': 236}}, u'_id': ObjectId('579580b13effa6c3369f2dd8')} \n",
      "\n",
      "\n",
      "\n",
      "{u'category': u'category-shopify-discussion', u'sub_cats': {u'category-shopify-point-of-sale': {u'url': u'/c/shopify-point-of-sale', u'topic_urls': [u'https://ecommerce.shopify.com/c/shopify-point-of-sale/t/inventory-for-each-location-151749', u'https://ecommerce.shopify.com/c/shopify-point-of-sale/t/pos-discount-codes-242558', u'https://ecommerce.shopify.com/c/shopify-point-of-sale/t/cost-of-goods-296824', u'https://ecommerce.shopify.com/c/shopify-point-of-sale/t/looking-to-sell-chip-credit-card-reader-361094', u'https://ecommerce.shopify.com/c/shopify-point-of-sale/t/create-product-for-delivery-date-360317', u'https://ecommerce.shopify.com/c/shopify-point-of-sale/t/leasing-to-own-rental-option-357809', u'https://ecommerce.shopify.com/c/shopify-point-of-sale/t/register-summary-is-insufficient-359367', u'https://ecommerce.shopify.com/c/shopify-point-of-sale/t/shipping-calculations-on-pos-345893', u'https://ecommerce.shopify.com/c/shopify-point-of-sale/t/product-search-in-pos-358699', u'https://ecommerce.shopify.com/c/shopify-point-of-sale/t/pos-printing-add-qr-code-359296', u'https://ecommerce.shopify.com/c/shopify-point-of-sale/t/pos-with-a-pc-359010', u'https://ecommerce.shopify.com/c/shopify-point-of-sale/t/opening-our-first-store-and-could-use-some-guidance-on-a-pos-system-347574', u'https://ecommerce.shopify.com/c/shopify-point-of-sale/t/uk-postcode-address-lookup-359068', u'https://ecommerce.shopify.com/c/shopify-point-of-sale/t/need-company-name-when-creating-a-customer-345892', u'https://ecommerce.shopify.com/c/shopify-point-of-sale/t/updating-customer-note-in-admin-not-reflected-358606', u'https://ecommerce.shopify.com/c/shopify-point-of-sale/t/searching-customer-and-order-notes-314651', u'https://ecommerce.shopify.com/c/shopify-point-of-sale/t/any-app-to-select-customer-with-barcode-355875', u'https://ecommerce.shopify.com/c/shopify-point-of-sale/t/register-summary-error-357880', u'https://ecommerce.shopify.com/c/shopify-point-of-sale/t/avoid-shopify-pos-357327', u'https://ecommerce.shopify.com/c/shopify-point-of-sale/t/price-by-location-a-feature-i-really-need-357467'], u'num_topics': 604}, u'category-shopify-job-board': {u'url': u'/c/shopify-job-board', u'num_topics': 1173}, u'category-scripts': {u'url': u'/c/scripts', u'num_topics': 40}, u'category-shopify-apps': {u'url': u'/c/shopify-apps', u'num_topics': 2770}, u'category-shopify-mobile': {u'url': u'/c/shopify-mobile', u'num_topics': 82}, u'category-api-announcements': {u'url': u'/c/api-announcements', u'num_topics': 53}, u'category-shopify-apis-and-technology': {u'url': u'/c/shopify-apis-and-technology', u'num_topics': 4590}, u'category-ecommerce-design': {u'url': u'/c/ecommerce-design', u'num_topics': 22188}, u'category-shopify-discussion': {u'url': u'/c/shopify-discussion', u'num_topics': 16621}}, u'_id': ObjectId('579580b13effa6c3369f2dd9')} \n",
      "\n",
      "\n",
      "\n",
      "{u'category': u'category-general-discussion', u'sub_cats': {u'category-off-topic': {u'url': u'/c/off-topic', u'topic_urls': [u'https://ecommerce.shopify.com/c/off-topic/t/a-href-http-jsfiddle-net-dotnetcodecentral-82wmn-target-_top-click-here-for-more-information-a-360275', u'https://ecommerce.shopify.com/c/off-topic/t/ost-to-pst-converter-tool-256826', u'https://ecommerce.shopify.com/c/off-topic/t/pantone-colours-360573', u'https://ecommerce.shopify.com/c/off-topic/t/legit-uk-driver-license-whats-app-237651048485-360201', u'https://ecommerce.shopify.com/c/off-topic/t/hi-323772', u'https://ecommerce.shopify.com/c/off-topic/t/seo-278588', u'https://ecommerce.shopify.com/c/off-topic/t/seo-tips-for-spreading-your-business-355695', u'https://ecommerce.shopify.com/c/off-topic/t/what-is-seo-and-smo-227872', u'https://ecommerce.shopify.com/c/off-topic/t/oauth-hmac-signature-validation-error-358514', u'https://ecommerce.shopify.com/c/off-topic/t/i-will-write-a-free-blog-post-for-your-business-first-20-sites-353530', u'https://ecommerce.shopify.com/c/off-topic/t/business-284735', u'https://ecommerce.shopify.com/c/off-topic/t/critique-my-shop-329257', u'https://ecommerce.shopify.com/c/off-topic/t/free-website-and-seo-analysis-see-what-s-hurting-your-website-326318', u'https://ecommerce.shopify.com/c/off-topic/t/hello-208436', u'https://ecommerce.shopify.com/c/off-topic/t/forum-subscriptions-not-working-348235', u'https://ecommerce.shopify.com/c/off-topic/t/how-to-see-my-opended-topics-329594', u'https://ecommerce.shopify.com/c/off-topic/t/how-to-start-339962', u'https://ecommerce.shopify.com/c/off-topic/t/what-is-affiliate-marketing-sources-to-increase-online-sales-321294', u'https://ecommerce.shopify.com/c/off-topic/t/orm-in-seo-328856', u'https://ecommerce.shopify.com/c/off-topic/t/fake-notifications-327941'], u'num_topics': 940}, u'category-entrepreneurship': {u'url': u'/c/entrepreneurship', u'num_topics': 185}}, u'_id': ObjectId('579580b13effa6c3369f2dda')} \n",
      "\n",
      "\n",
      "\n"
     ]
    }
   ],
   "source": [
    "for a in data.find():\n",
    "    print a, '\\n\\n\\n'"
   ]
  },
  {
   "cell_type": "markdown",
   "metadata": {},
   "source": [
    "<div style=\"text-align:center;padding:10px;\"><h1>Step 3: Scrape User and Topic Information</h1></div>"
   ]
  },
  {
   "cell_type": "code",
   "execution_count": 219,
   "metadata": {
    "collapsed": false,
    "scrolled": true
   },
   "outputs": [
    {
     "name": "stdout",
     "output_type": "stream",
     "text": [
      "\n",
      "SUBCATEGORY: category-accounting-and-taxes\n",
      "1\n",
      "2\n",
      "5\n",
      "5\n",
      "2\n",
      "8\n",
      "11\n",
      "2\n",
      "1\n",
      "2\n",
      "6\n",
      "PROCESSED 0/20 pages\n",
      "211\n",
      "5\n",
      "72\n",
      "1\n",
      "1\n",
      "1\n",
      "2\n",
      "1\n",
      "22\n",
      "100\n",
      "33\n",
      "193\n",
      "41\n",
      "7\n",
      "PROCESSED 5/20 pages\n",
      "3\n",
      "1\n"
     ]
    },
    {
     "ename": "KeyboardInterrupt",
     "evalue": "",
     "output_type": "error",
     "traceback": [
      "\u001b[0;31m---------------------------------------------------------------------------\u001b[0m",
      "\u001b[0;31mKeyboardInterrupt\u001b[0m                         Traceback (most recent call last)",
      "\u001b[0;32m<ipython-input-219-23c3a540f4bd>\u001b[0m in \u001b[0;36m<module>\u001b[0;34m()\u001b[0m\n\u001b[1;32m     13\u001b[0m         \u001b[0;32mfor\u001b[0m \u001b[0midx\u001b[0m\u001b[0;34m,\u001b[0m \u001b[0murl\u001b[0m \u001b[0;32min\u001b[0m \u001b[0menumerate\u001b[0m\u001b[0;34m(\u001b[0m\u001b[0msub_cat\u001b[0m\u001b[0;34m[\u001b[0m\u001b[0;34m'topic_urls'\u001b[0m\u001b[0;34m]\u001b[0m\u001b[0;34m)\u001b[0m\u001b[0;34m:\u001b[0m\u001b[0;34m\u001b[0m\u001b[0m\n\u001b[1;32m     14\u001b[0m \u001b[0;34m\u001b[0m\u001b[0m\n\u001b[0;32m---> 15\u001b[0;31m             \u001b[0mtopic_page\u001b[0m \u001b[0;34m=\u001b[0m \u001b[0mBeautifulSoup\u001b[0m\u001b[0;34m(\u001b[0m\u001b[0murlopen\u001b[0m\u001b[0;34m(\u001b[0m\u001b[0murl\u001b[0m\u001b[0;34m)\u001b[0m\u001b[0;34m)\u001b[0m\u001b[0;34m\u001b[0m\u001b[0m\n\u001b[0m\u001b[1;32m     16\u001b[0m             \u001b[0mthread\u001b[0m \u001b[0;34m=\u001b[0m \u001b[0;34m[\u001b[0m\u001b[0;34m]\u001b[0m\u001b[0;34m\u001b[0m\u001b[0m\n\u001b[1;32m     17\u001b[0m \u001b[0;34m\u001b[0m\u001b[0m\n",
      "\u001b[0;32m/System/Library/Frameworks/Python.framework/Versions/2.7/lib/python2.7/urllib2.pyc\u001b[0m in \u001b[0;36murlopen\u001b[0;34m(url, data, timeout, cafile, capath, cadefault, context)\u001b[0m\n\u001b[1;32m    152\u001b[0m     \u001b[0;32melse\u001b[0m\u001b[0;34m:\u001b[0m\u001b[0;34m\u001b[0m\u001b[0m\n\u001b[1;32m    153\u001b[0m         \u001b[0mopener\u001b[0m \u001b[0;34m=\u001b[0m \u001b[0m_opener\u001b[0m\u001b[0;34m\u001b[0m\u001b[0m\n\u001b[0;32m--> 154\u001b[0;31m     \u001b[0;32mreturn\u001b[0m \u001b[0mopener\u001b[0m\u001b[0;34m.\u001b[0m\u001b[0mopen\u001b[0m\u001b[0;34m(\u001b[0m\u001b[0murl\u001b[0m\u001b[0;34m,\u001b[0m \u001b[0mdata\u001b[0m\u001b[0;34m,\u001b[0m \u001b[0mtimeout\u001b[0m\u001b[0;34m)\u001b[0m\u001b[0;34m\u001b[0m\u001b[0m\n\u001b[0m\u001b[1;32m    155\u001b[0m \u001b[0;34m\u001b[0m\u001b[0m\n\u001b[1;32m    156\u001b[0m \u001b[0;32mdef\u001b[0m \u001b[0minstall_opener\u001b[0m\u001b[0;34m(\u001b[0m\u001b[0mopener\u001b[0m\u001b[0;34m)\u001b[0m\u001b[0;34m:\u001b[0m\u001b[0;34m\u001b[0m\u001b[0m\n",
      "\u001b[0;32m/System/Library/Frameworks/Python.framework/Versions/2.7/lib/python2.7/urllib2.pyc\u001b[0m in \u001b[0;36mopen\u001b[0;34m(self, fullurl, data, timeout)\u001b[0m\n\u001b[1;32m    429\u001b[0m             \u001b[0mreq\u001b[0m \u001b[0;34m=\u001b[0m \u001b[0mmeth\u001b[0m\u001b[0;34m(\u001b[0m\u001b[0mreq\u001b[0m\u001b[0;34m)\u001b[0m\u001b[0;34m\u001b[0m\u001b[0m\n\u001b[1;32m    430\u001b[0m \u001b[0;34m\u001b[0m\u001b[0m\n\u001b[0;32m--> 431\u001b[0;31m         \u001b[0mresponse\u001b[0m \u001b[0;34m=\u001b[0m \u001b[0mself\u001b[0m\u001b[0;34m.\u001b[0m\u001b[0m_open\u001b[0m\u001b[0;34m(\u001b[0m\u001b[0mreq\u001b[0m\u001b[0;34m,\u001b[0m \u001b[0mdata\u001b[0m\u001b[0;34m)\u001b[0m\u001b[0;34m\u001b[0m\u001b[0m\n\u001b[0m\u001b[1;32m    432\u001b[0m \u001b[0;34m\u001b[0m\u001b[0m\n\u001b[1;32m    433\u001b[0m         \u001b[0;31m# post-process response\u001b[0m\u001b[0;34m\u001b[0m\u001b[0;34m\u001b[0m\u001b[0m\n",
      "\u001b[0;32m/System/Library/Frameworks/Python.framework/Versions/2.7/lib/python2.7/urllib2.pyc\u001b[0m in \u001b[0;36m_open\u001b[0;34m(self, req, data)\u001b[0m\n\u001b[1;32m    447\u001b[0m         \u001b[0mprotocol\u001b[0m \u001b[0;34m=\u001b[0m \u001b[0mreq\u001b[0m\u001b[0;34m.\u001b[0m\u001b[0mget_type\u001b[0m\u001b[0;34m(\u001b[0m\u001b[0;34m)\u001b[0m\u001b[0;34m\u001b[0m\u001b[0m\n\u001b[1;32m    448\u001b[0m         result = self._call_chain(self.handle_open, protocol, protocol +\n\u001b[0;32m--> 449\u001b[0;31m                                   '_open', req)\n\u001b[0m\u001b[1;32m    450\u001b[0m         \u001b[0;32mif\u001b[0m \u001b[0mresult\u001b[0m\u001b[0;34m:\u001b[0m\u001b[0;34m\u001b[0m\u001b[0m\n\u001b[1;32m    451\u001b[0m             \u001b[0;32mreturn\u001b[0m \u001b[0mresult\u001b[0m\u001b[0;34m\u001b[0m\u001b[0m\n",
      "\u001b[0;32m/System/Library/Frameworks/Python.framework/Versions/2.7/lib/python2.7/urllib2.pyc\u001b[0m in \u001b[0;36m_call_chain\u001b[0;34m(self, chain, kind, meth_name, *args)\u001b[0m\n\u001b[1;32m    407\u001b[0m             \u001b[0mfunc\u001b[0m \u001b[0;34m=\u001b[0m \u001b[0mgetattr\u001b[0m\u001b[0;34m(\u001b[0m\u001b[0mhandler\u001b[0m\u001b[0;34m,\u001b[0m \u001b[0mmeth_name\u001b[0m\u001b[0;34m)\u001b[0m\u001b[0;34m\u001b[0m\u001b[0m\n\u001b[1;32m    408\u001b[0m \u001b[0;34m\u001b[0m\u001b[0m\n\u001b[0;32m--> 409\u001b[0;31m             \u001b[0mresult\u001b[0m \u001b[0;34m=\u001b[0m \u001b[0mfunc\u001b[0m\u001b[0;34m(\u001b[0m\u001b[0;34m*\u001b[0m\u001b[0margs\u001b[0m\u001b[0;34m)\u001b[0m\u001b[0;34m\u001b[0m\u001b[0m\n\u001b[0m\u001b[1;32m    410\u001b[0m             \u001b[0;32mif\u001b[0m \u001b[0mresult\u001b[0m \u001b[0;32mis\u001b[0m \u001b[0;32mnot\u001b[0m \u001b[0mNone\u001b[0m\u001b[0;34m:\u001b[0m\u001b[0;34m\u001b[0m\u001b[0m\n\u001b[1;32m    411\u001b[0m                 \u001b[0;32mreturn\u001b[0m \u001b[0mresult\u001b[0m\u001b[0;34m\u001b[0m\u001b[0m\n",
      "\u001b[0;32m/System/Library/Frameworks/Python.framework/Versions/2.7/lib/python2.7/urllib2.pyc\u001b[0m in \u001b[0;36mhttps_open\u001b[0;34m(self, req)\u001b[0m\n\u001b[1;32m   1238\u001b[0m         \u001b[0;32mdef\u001b[0m \u001b[0mhttps_open\u001b[0m\u001b[0;34m(\u001b[0m\u001b[0mself\u001b[0m\u001b[0;34m,\u001b[0m \u001b[0mreq\u001b[0m\u001b[0;34m)\u001b[0m\u001b[0;34m:\u001b[0m\u001b[0;34m\u001b[0m\u001b[0m\n\u001b[1;32m   1239\u001b[0m             return self.do_open(httplib.HTTPSConnection, req,\n\u001b[0;32m-> 1240\u001b[0;31m                 context=self._context)\n\u001b[0m\u001b[1;32m   1241\u001b[0m \u001b[0;34m\u001b[0m\u001b[0m\n\u001b[1;32m   1242\u001b[0m         \u001b[0mhttps_request\u001b[0m \u001b[0;34m=\u001b[0m \u001b[0mAbstractHTTPHandler\u001b[0m\u001b[0;34m.\u001b[0m\u001b[0mdo_request_\u001b[0m\u001b[0;34m\u001b[0m\u001b[0m\n",
      "\u001b[0;32m/System/Library/Frameworks/Python.framework/Versions/2.7/lib/python2.7/urllib2.pyc\u001b[0m in \u001b[0;36mdo_open\u001b[0;34m(self, http_class, req, **http_conn_args)\u001b[0m\n\u001b[1;32m   1198\u001b[0m         \u001b[0;32melse\u001b[0m\u001b[0;34m:\u001b[0m\u001b[0;34m\u001b[0m\u001b[0m\n\u001b[1;32m   1199\u001b[0m             \u001b[0;32mtry\u001b[0m\u001b[0;34m:\u001b[0m\u001b[0;34m\u001b[0m\u001b[0m\n\u001b[0;32m-> 1200\u001b[0;31m                 \u001b[0mr\u001b[0m \u001b[0;34m=\u001b[0m \u001b[0mh\u001b[0m\u001b[0;34m.\u001b[0m\u001b[0mgetresponse\u001b[0m\u001b[0;34m(\u001b[0m\u001b[0mbuffering\u001b[0m\u001b[0;34m=\u001b[0m\u001b[0mTrue\u001b[0m\u001b[0;34m)\u001b[0m\u001b[0;34m\u001b[0m\u001b[0m\n\u001b[0m\u001b[1;32m   1201\u001b[0m             \u001b[0;32mexcept\u001b[0m \u001b[0mTypeError\u001b[0m\u001b[0;34m:\u001b[0m \u001b[0;31m# buffering kw not supported\u001b[0m\u001b[0;34m\u001b[0m\u001b[0m\n\u001b[1;32m   1202\u001b[0m                 \u001b[0mr\u001b[0m \u001b[0;34m=\u001b[0m \u001b[0mh\u001b[0m\u001b[0;34m.\u001b[0m\u001b[0mgetresponse\u001b[0m\u001b[0;34m(\u001b[0m\u001b[0;34m)\u001b[0m\u001b[0;34m\u001b[0m\u001b[0m\n",
      "\u001b[0;32m/System/Library/Frameworks/Python.framework/Versions/2.7/lib/python2.7/httplib.pyc\u001b[0m in \u001b[0;36mgetresponse\u001b[0;34m(self, buffering)\u001b[0m\n\u001b[1;32m   1130\u001b[0m \u001b[0;34m\u001b[0m\u001b[0m\n\u001b[1;32m   1131\u001b[0m         \u001b[0;32mtry\u001b[0m\u001b[0;34m:\u001b[0m\u001b[0;34m\u001b[0m\u001b[0m\n\u001b[0;32m-> 1132\u001b[0;31m             \u001b[0mresponse\u001b[0m\u001b[0;34m.\u001b[0m\u001b[0mbegin\u001b[0m\u001b[0;34m(\u001b[0m\u001b[0;34m)\u001b[0m\u001b[0;34m\u001b[0m\u001b[0m\n\u001b[0m\u001b[1;32m   1133\u001b[0m             \u001b[0;32massert\u001b[0m \u001b[0mresponse\u001b[0m\u001b[0;34m.\u001b[0m\u001b[0mwill_close\u001b[0m \u001b[0;34m!=\u001b[0m \u001b[0m_UNKNOWN\u001b[0m\u001b[0;34m\u001b[0m\u001b[0m\n\u001b[1;32m   1134\u001b[0m             \u001b[0mself\u001b[0m\u001b[0;34m.\u001b[0m\u001b[0m__state\u001b[0m \u001b[0;34m=\u001b[0m \u001b[0m_CS_IDLE\u001b[0m\u001b[0;34m\u001b[0m\u001b[0m\n",
      "\u001b[0;32m/System/Library/Frameworks/Python.framework/Versions/2.7/lib/python2.7/httplib.pyc\u001b[0m in \u001b[0;36mbegin\u001b[0;34m(self)\u001b[0m\n\u001b[1;32m    451\u001b[0m         \u001b[0;31m# read until we get a non-100 response\u001b[0m\u001b[0;34m\u001b[0m\u001b[0;34m\u001b[0m\u001b[0m\n\u001b[1;32m    452\u001b[0m         \u001b[0;32mwhile\u001b[0m \u001b[0mTrue\u001b[0m\u001b[0;34m:\u001b[0m\u001b[0;34m\u001b[0m\u001b[0m\n\u001b[0;32m--> 453\u001b[0;31m             \u001b[0mversion\u001b[0m\u001b[0;34m,\u001b[0m \u001b[0mstatus\u001b[0m\u001b[0;34m,\u001b[0m \u001b[0mreason\u001b[0m \u001b[0;34m=\u001b[0m \u001b[0mself\u001b[0m\u001b[0;34m.\u001b[0m\u001b[0m_read_status\u001b[0m\u001b[0;34m(\u001b[0m\u001b[0;34m)\u001b[0m\u001b[0;34m\u001b[0m\u001b[0m\n\u001b[0m\u001b[1;32m    454\u001b[0m             \u001b[0;32mif\u001b[0m \u001b[0mstatus\u001b[0m \u001b[0;34m!=\u001b[0m \u001b[0mCONTINUE\u001b[0m\u001b[0;34m:\u001b[0m\u001b[0;34m\u001b[0m\u001b[0m\n\u001b[1;32m    455\u001b[0m                 \u001b[0;32mbreak\u001b[0m\u001b[0;34m\u001b[0m\u001b[0m\n",
      "\u001b[0;32m/System/Library/Frameworks/Python.framework/Versions/2.7/lib/python2.7/httplib.pyc\u001b[0m in \u001b[0;36m_read_status\u001b[0;34m(self)\u001b[0m\n\u001b[1;32m    407\u001b[0m     \u001b[0;32mdef\u001b[0m \u001b[0m_read_status\u001b[0m\u001b[0;34m(\u001b[0m\u001b[0mself\u001b[0m\u001b[0;34m)\u001b[0m\u001b[0;34m:\u001b[0m\u001b[0;34m\u001b[0m\u001b[0m\n\u001b[1;32m    408\u001b[0m         \u001b[0;31m# Initialize with Simple-Response defaults\u001b[0m\u001b[0;34m\u001b[0m\u001b[0;34m\u001b[0m\u001b[0m\n\u001b[0;32m--> 409\u001b[0;31m         \u001b[0mline\u001b[0m \u001b[0;34m=\u001b[0m \u001b[0mself\u001b[0m\u001b[0;34m.\u001b[0m\u001b[0mfp\u001b[0m\u001b[0;34m.\u001b[0m\u001b[0mreadline\u001b[0m\u001b[0;34m(\u001b[0m\u001b[0m_MAXLINE\u001b[0m \u001b[0;34m+\u001b[0m \u001b[0;36m1\u001b[0m\u001b[0;34m)\u001b[0m\u001b[0;34m\u001b[0m\u001b[0m\n\u001b[0m\u001b[1;32m    410\u001b[0m         \u001b[0;32mif\u001b[0m \u001b[0mlen\u001b[0m\u001b[0;34m(\u001b[0m\u001b[0mline\u001b[0m\u001b[0;34m)\u001b[0m \u001b[0;34m>\u001b[0m \u001b[0m_MAXLINE\u001b[0m\u001b[0;34m:\u001b[0m\u001b[0;34m\u001b[0m\u001b[0m\n\u001b[1;32m    411\u001b[0m             \u001b[0;32mraise\u001b[0m \u001b[0mLineTooLong\u001b[0m\u001b[0;34m(\u001b[0m\u001b[0;34m\"header line\"\u001b[0m\u001b[0;34m)\u001b[0m\u001b[0;34m\u001b[0m\u001b[0m\n",
      "\u001b[0;32m/System/Library/Frameworks/Python.framework/Versions/2.7/lib/python2.7/socket.pyc\u001b[0m in \u001b[0;36mreadline\u001b[0;34m(self, size)\u001b[0m\n\u001b[1;32m    478\u001b[0m             \u001b[0;32mwhile\u001b[0m \u001b[0mTrue\u001b[0m\u001b[0;34m:\u001b[0m\u001b[0;34m\u001b[0m\u001b[0m\n\u001b[1;32m    479\u001b[0m                 \u001b[0;32mtry\u001b[0m\u001b[0;34m:\u001b[0m\u001b[0;34m\u001b[0m\u001b[0m\n\u001b[0;32m--> 480\u001b[0;31m                     \u001b[0mdata\u001b[0m \u001b[0;34m=\u001b[0m \u001b[0mself\u001b[0m\u001b[0;34m.\u001b[0m\u001b[0m_sock\u001b[0m\u001b[0;34m.\u001b[0m\u001b[0mrecv\u001b[0m\u001b[0;34m(\u001b[0m\u001b[0mself\u001b[0m\u001b[0;34m.\u001b[0m\u001b[0m_rbufsize\u001b[0m\u001b[0;34m)\u001b[0m\u001b[0;34m\u001b[0m\u001b[0m\n\u001b[0m\u001b[1;32m    481\u001b[0m                 \u001b[0;32mexcept\u001b[0m \u001b[0merror\u001b[0m\u001b[0;34m,\u001b[0m \u001b[0me\u001b[0m\u001b[0;34m:\u001b[0m\u001b[0;34m\u001b[0m\u001b[0m\n\u001b[1;32m    482\u001b[0m                     \u001b[0;32mif\u001b[0m \u001b[0me\u001b[0m\u001b[0;34m.\u001b[0m\u001b[0margs\u001b[0m\u001b[0;34m[\u001b[0m\u001b[0;36m0\u001b[0m\u001b[0;34m]\u001b[0m \u001b[0;34m==\u001b[0m \u001b[0mEINTR\u001b[0m\u001b[0;34m:\u001b[0m\u001b[0;34m\u001b[0m\u001b[0m\n",
      "\u001b[0;32m/System/Library/Frameworks/Python.framework/Versions/2.7/lib/python2.7/ssl.pyc\u001b[0m in \u001b[0;36mrecv\u001b[0;34m(self, buflen, flags)\u001b[0m\n\u001b[1;32m    732\u001b[0m                     \u001b[0;34m\"non-zero flags not allowed in calls to recv() on %s\"\u001b[0m \u001b[0;34m%\u001b[0m\u001b[0;34m\u001b[0m\u001b[0m\n\u001b[1;32m    733\u001b[0m                     self.__class__)\n\u001b[0;32m--> 734\u001b[0;31m             \u001b[0;32mreturn\u001b[0m \u001b[0mself\u001b[0m\u001b[0;34m.\u001b[0m\u001b[0mread\u001b[0m\u001b[0;34m(\u001b[0m\u001b[0mbuflen\u001b[0m\u001b[0;34m)\u001b[0m\u001b[0;34m\u001b[0m\u001b[0m\n\u001b[0m\u001b[1;32m    735\u001b[0m         \u001b[0;32melse\u001b[0m\u001b[0;34m:\u001b[0m\u001b[0;34m\u001b[0m\u001b[0m\n\u001b[1;32m    736\u001b[0m             \u001b[0;32mreturn\u001b[0m \u001b[0mself\u001b[0m\u001b[0;34m.\u001b[0m\u001b[0m_sock\u001b[0m\u001b[0;34m.\u001b[0m\u001b[0mrecv\u001b[0m\u001b[0;34m(\u001b[0m\u001b[0mbuflen\u001b[0m\u001b[0;34m,\u001b[0m \u001b[0mflags\u001b[0m\u001b[0;34m)\u001b[0m\u001b[0;34m\u001b[0m\u001b[0m\n",
      "\u001b[0;32m/System/Library/Frameworks/Python.framework/Versions/2.7/lib/python2.7/ssl.pyc\u001b[0m in \u001b[0;36mread\u001b[0;34m(self, len, buffer)\u001b[0m\n\u001b[1;32m    619\u001b[0m                 \u001b[0mv\u001b[0m \u001b[0;34m=\u001b[0m \u001b[0mself\u001b[0m\u001b[0;34m.\u001b[0m\u001b[0m_sslobj\u001b[0m\u001b[0;34m.\u001b[0m\u001b[0mread\u001b[0m\u001b[0;34m(\u001b[0m\u001b[0mlen\u001b[0m\u001b[0;34m,\u001b[0m \u001b[0mbuffer\u001b[0m\u001b[0;34m)\u001b[0m\u001b[0;34m\u001b[0m\u001b[0m\n\u001b[1;32m    620\u001b[0m             \u001b[0;32melse\u001b[0m\u001b[0;34m:\u001b[0m\u001b[0;34m\u001b[0m\u001b[0m\n\u001b[0;32m--> 621\u001b[0;31m                 \u001b[0mv\u001b[0m \u001b[0;34m=\u001b[0m \u001b[0mself\u001b[0m\u001b[0;34m.\u001b[0m\u001b[0m_sslobj\u001b[0m\u001b[0;34m.\u001b[0m\u001b[0mread\u001b[0m\u001b[0;34m(\u001b[0m\u001b[0mlen\u001b[0m \u001b[0;32mor\u001b[0m \u001b[0;36m1024\u001b[0m\u001b[0;34m)\u001b[0m\u001b[0;34m\u001b[0m\u001b[0m\n\u001b[0m\u001b[1;32m    622\u001b[0m             \u001b[0;32mreturn\u001b[0m \u001b[0mv\u001b[0m\u001b[0;34m\u001b[0m\u001b[0m\n\u001b[1;32m    623\u001b[0m         \u001b[0;32mexcept\u001b[0m \u001b[0mSSLError\u001b[0m \u001b[0;32mas\u001b[0m \u001b[0mx\u001b[0m\u001b[0;34m:\u001b[0m\u001b[0;34m\u001b[0m\u001b[0m\n",
      "\u001b[0;31mKeyboardInterrupt\u001b[0m: "
     ]
    }
   ],
   "source": [
    "for category in data.find():\n",
    "    \n",
    "    print ''\n",
    "    for sub_cat_key in category[\"sub_cats\"]:\n",
    "        \n",
    "        print 'SUBCATEGORY: {sub_cat}'.format(sub_cat=sub_cat_key)\n",
    "\n",
    "        \n",
    "        sub_cat = category['sub_cats'][sub_cat_key]\n",
    "        posts = []\n",
    "        \n",
    "        # Run through each thread\n",
    "        for idx, url in enumerate(sub_cat['topic_urls']):\n",
    "            \n",
    "            topic_page = BeautifulSoup(urlopen(url))\n",
    "            thread = []\n",
    "            \n",
    "            # Process original post\n",
    "            user_id, text, date = process_post(topic_page.find('div',{'class':'original-post'}))\n",
    "            thread.append({'user_id':user_id, 'date':date, 'text':text})\n",
    "\n",
    "            # Process each reply\n",
    "            for reply in topic_page.find_all('div',{'itemtype':'http://schema.org/UserComments'}):\n",
    "                user_id, text, date = process_post(reply)\n",
    "                thread.append({'user_id':user_id, 'date':date, 'text':text})\n",
    "            \n",
    "            posts.append(thread)\n",
    "            \n",
    "            # Status Update\n",
    "            if idx % 5 == 0:\n",
    "                print 'PROCESSED {idx}/{total} pages'.format(idx=idx,total=len(sub_cat['topic_urls']))\n",
    "            \n",
    "        category[\"sub_cats\"][sub_cat_key]['posts'] = posts\n",
    "        \n",
    "    data.update_one({\"_id\":category[\"_id\"]},{'$set':category})        "
   ]
  },
  {
   "cell_type": "code",
   "execution_count": 217,
   "metadata": {
    "collapsed": false
   },
   "outputs": [],
   "source": [
    "def process_post(post):\n",
    "    \n",
    "    \n",
    "    user = post.find('div',{'class':'author'})\n",
    "    user_id = int(user.find('a',{'class':'username'}).get('href').split('/')[-1])\n",
    "    \n",
    "    # Add user to db if does not exist \n",
    "    if users.find({'id': user_id}).count() < 1:\n",
    "        name = user.find('a',{'class':'username'}).text.strip()\n",
    "        title = user.find_all('em')[0].text.strip().lower()\n",
    "        site = user.find_all('em')[-1].text.strip().lower()\n",
    "        posts = int(user.find('div',{'class':'stats'}).find('a').text.strip().lower())\n",
    "        users.insert_one({'id':user_id,'name':name,'title':title,'site':site, 'posts':posts })\n",
    "        \n",
    "    date = get_date(post)\n",
    "    text = ' '.join([txt.text.lower() for txt in post.find('div',{'itemprop':'description'}).find_all('p')])\n",
    "    \n",
    "    return user_id, text, date\n",
    "    \n",
    "    \n"
   ]
  },
  {
   "cell_type": "code",
   "execution_count": 218,
   "metadata": {
    "collapsed": false
   },
   "outputs": [],
   "source": [
    "import re\n",
    "import datetime as dt\n",
    "months = ['january','february','march','april','may','june','july','august','september','october','november','december']\n",
    "\n",
    "def get_date(post):\n",
    "    \n",
    "    regexes = ['(\\d+) day','(\\d+) month', '(\\w+) (\\d+), (20\\d+)']\n",
    "    raw_date = post.find('div',{'class':'date'}).text.strip()\n",
    "    date = None\n",
    "    \n",
    "    for idx, reg in enumerate(regexes):\n",
    "        matches = re.search(reg, raw_date)\n",
    "        if matches:\n",
    "            if idx == 0:\n",
    "                date = dt.datetime.now() - dt.timedelta(days=int(matches.group(1)))\n",
    "            elif idx == 1:\n",
    "                date = dt.datetime.now() - dt.timedelta(days=int(matches.group(1))*30)\n",
    "            else:\n",
    "                date = dt.datetime(int(matches.group(3)), int(months.index(matches.group(1).lower())) + 1, int(matches.group(2)))\n",
    "\n",
    "    return date.strftime('%Y-%m-%d') if date else 'WHY'"
   ]
  },
  {
   "cell_type": "code",
   "execution_count": null,
   "metadata": {
    "collapsed": true
   },
   "outputs": [],
   "source": []
  }
 ],
 "metadata": {
  "kernelspec": {
   "display_name": "Python 2",
   "language": "python",
   "name": "python2"
  },
  "language_info": {
   "codemirror_mode": {
    "name": "ipython",
    "version": 2
   },
   "file_extension": ".py",
   "mimetype": "text/x-python",
   "name": "python",
   "nbconvert_exporter": "python",
   "pygments_lexer": "ipython2",
   "version": "2.7.10"
  }
 },
 "nbformat": 4,
 "nbformat_minor": 0
}
